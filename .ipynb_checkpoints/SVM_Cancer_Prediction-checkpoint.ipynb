{
 "cells": [
  {
   "cell_type": "code",
   "execution_count": 29,
   "metadata": {},
   "outputs": [],
   "source": [
    "import pandas as pd\n",
    "import numpy as np\n",
    "import matplotlib.pyplot as plt\n"
   ]
  },
  {
   "cell_type": "code",
   "execution_count": 9,
   "metadata": {},
   "outputs": [
    {
     "name": "stdout",
     "output_type": "stream",
     "text": [
      "Index(['id', ' diagnosis', ' radius_mean', ' texture_mean', ' perimeter_mean',\n",
      "       'area_mean', ' smoothness_mean', ' compactness_mean', ' concavity_mean',\n",
      "       ' concave points_mean', ' symmetry_mean', ' fractal_dimension_mean',\n",
      "       'radius_se', ' texture_se', ' perimeter_se', ' area_se',\n",
      "       ' smoothness_se', 'compactness_se', ' concavity_se',\n",
      "       ' concave points_se', ' symmetry_se', 'fractal_dimension_se',\n",
      "       ' radius_worst', ' texture_worst', 'perimeter_worst', ' area_worst',\n",
      "       ' smoothness_worst', 'compactness_worst', ' concavity_worst',\n",
      "       ' concave points_worst', 'symmetry_worst', ' fractal_dimension_worst'],\n",
      "      dtype='object')\n"
     ]
    }
   ],
   "source": [
    "dataset = pd.read_csv('breast-cancer.csv')\n",
    "print(dataset.columns)"
   ]
  },
  {
   "cell_type": "code",
   "execution_count": 10,
   "metadata": {},
   "outputs": [
    {
     "data": {
      "text/plain": [
       "(569, 32)"
      ]
     },
     "execution_count": 10,
     "metadata": {},
     "output_type": "execute_result"
    }
   ],
   "source": [
    "dataset.shape"
   ]
  },
  {
   "cell_type": "code",
   "execution_count": 12,
   "metadata": {},
   "outputs": [
    {
     "data": {
      "text/html": [
       "<div>\n",
       "<style scoped>\n",
       "    .dataframe tbody tr th:only-of-type {\n",
       "        vertical-align: middle;\n",
       "    }\n",
       "\n",
       "    .dataframe tbody tr th {\n",
       "        vertical-align: top;\n",
       "    }\n",
       "\n",
       "    .dataframe thead th {\n",
       "        text-align: right;\n",
       "    }\n",
       "</style>\n",
       "<table border=\"1\" class=\"dataframe\">\n",
       "  <thead>\n",
       "    <tr style=\"text-align: right;\">\n",
       "      <th></th>\n",
       "      <th>id</th>\n",
       "      <th>diagnosis</th>\n",
       "      <th>radius_mean</th>\n",
       "      <th>texture_mean</th>\n",
       "      <th>perimeter_mean</th>\n",
       "      <th>area_mean</th>\n",
       "      <th>smoothness_mean</th>\n",
       "      <th>compactness_mean</th>\n",
       "      <th>concavity_mean</th>\n",
       "      <th>concave points_mean</th>\n",
       "      <th>...</th>\n",
       "      <th>radius_worst</th>\n",
       "      <th>texture_worst</th>\n",
       "      <th>perimeter_worst</th>\n",
       "      <th>area_worst</th>\n",
       "      <th>smoothness_worst</th>\n",
       "      <th>compactness_worst</th>\n",
       "      <th>concavity_worst</th>\n",
       "      <th>concave points_worst</th>\n",
       "      <th>symmetry_worst</th>\n",
       "      <th>fractal_dimension_worst</th>\n",
       "    </tr>\n",
       "  </thead>\n",
       "  <tbody>\n",
       "    <tr>\n",
       "      <th>0</th>\n",
       "      <td>842302</td>\n",
       "      <td>M</td>\n",
       "      <td>17.99</td>\n",
       "      <td>10.38</td>\n",
       "      <td>122.80</td>\n",
       "      <td>1001.0</td>\n",
       "      <td>0.11840</td>\n",
       "      <td>0.27760</td>\n",
       "      <td>0.3001</td>\n",
       "      <td>0.14710</td>\n",
       "      <td>...</td>\n",
       "      <td>25.38</td>\n",
       "      <td>17.33</td>\n",
       "      <td>184.60</td>\n",
       "      <td>2019.0</td>\n",
       "      <td>0.1622</td>\n",
       "      <td>0.6656</td>\n",
       "      <td>0.7119</td>\n",
       "      <td>0.2654</td>\n",
       "      <td>0.4601</td>\n",
       "      <td>0.11890</td>\n",
       "    </tr>\n",
       "    <tr>\n",
       "      <th>1</th>\n",
       "      <td>842517</td>\n",
       "      <td>M</td>\n",
       "      <td>20.57</td>\n",
       "      <td>17.77</td>\n",
       "      <td>132.90</td>\n",
       "      <td>1326.0</td>\n",
       "      <td>0.08474</td>\n",
       "      <td>0.07864</td>\n",
       "      <td>0.0869</td>\n",
       "      <td>0.07017</td>\n",
       "      <td>...</td>\n",
       "      <td>24.99</td>\n",
       "      <td>23.41</td>\n",
       "      <td>158.80</td>\n",
       "      <td>1956.0</td>\n",
       "      <td>0.1238</td>\n",
       "      <td>0.1866</td>\n",
       "      <td>0.2416</td>\n",
       "      <td>0.1860</td>\n",
       "      <td>0.2750</td>\n",
       "      <td>0.08902</td>\n",
       "    </tr>\n",
       "    <tr>\n",
       "      <th>2</th>\n",
       "      <td>84300903</td>\n",
       "      <td>M</td>\n",
       "      <td>19.69</td>\n",
       "      <td>21.25</td>\n",
       "      <td>130.00</td>\n",
       "      <td>1203.0</td>\n",
       "      <td>0.10960</td>\n",
       "      <td>0.15990</td>\n",
       "      <td>0.1974</td>\n",
       "      <td>0.12790</td>\n",
       "      <td>...</td>\n",
       "      <td>23.57</td>\n",
       "      <td>25.53</td>\n",
       "      <td>152.50</td>\n",
       "      <td>1709.0</td>\n",
       "      <td>0.1444</td>\n",
       "      <td>0.4245</td>\n",
       "      <td>0.4504</td>\n",
       "      <td>0.2430</td>\n",
       "      <td>0.3613</td>\n",
       "      <td>0.08758</td>\n",
       "    </tr>\n",
       "    <tr>\n",
       "      <th>3</th>\n",
       "      <td>84348301</td>\n",
       "      <td>M</td>\n",
       "      <td>11.42</td>\n",
       "      <td>20.38</td>\n",
       "      <td>77.58</td>\n",
       "      <td>386.1</td>\n",
       "      <td>0.14250</td>\n",
       "      <td>0.28390</td>\n",
       "      <td>0.2414</td>\n",
       "      <td>0.10520</td>\n",
       "      <td>...</td>\n",
       "      <td>14.91</td>\n",
       "      <td>26.50</td>\n",
       "      <td>98.87</td>\n",
       "      <td>567.7</td>\n",
       "      <td>0.2098</td>\n",
       "      <td>0.8663</td>\n",
       "      <td>0.6869</td>\n",
       "      <td>0.2575</td>\n",
       "      <td>0.6638</td>\n",
       "      <td>0.17300</td>\n",
       "    </tr>\n",
       "    <tr>\n",
       "      <th>4</th>\n",
       "      <td>84358402</td>\n",
       "      <td>M</td>\n",
       "      <td>20.29</td>\n",
       "      <td>14.34</td>\n",
       "      <td>135.10</td>\n",
       "      <td>1297.0</td>\n",
       "      <td>0.10030</td>\n",
       "      <td>0.13280</td>\n",
       "      <td>0.1980</td>\n",
       "      <td>0.10430</td>\n",
       "      <td>...</td>\n",
       "      <td>22.54</td>\n",
       "      <td>16.67</td>\n",
       "      <td>152.20</td>\n",
       "      <td>1575.0</td>\n",
       "      <td>0.1374</td>\n",
       "      <td>0.2050</td>\n",
       "      <td>0.4000</td>\n",
       "      <td>0.1625</td>\n",
       "      <td>0.2364</td>\n",
       "      <td>0.07678</td>\n",
       "    </tr>\n",
       "  </tbody>\n",
       "</table>\n",
       "<p>5 rows × 32 columns</p>\n",
       "</div>"
      ],
      "text/plain": [
       "         id  diagnosis   radius_mean   texture_mean   perimeter_mean  \\\n",
       "0    842302          M         17.99          10.38           122.80   \n",
       "1    842517          M         20.57          17.77           132.90   \n",
       "2  84300903          M         19.69          21.25           130.00   \n",
       "3  84348301          M         11.42          20.38            77.58   \n",
       "4  84358402          M         20.29          14.34           135.10   \n",
       "\n",
       "   area_mean   smoothness_mean   compactness_mean   concavity_mean  \\\n",
       "0     1001.0           0.11840            0.27760           0.3001   \n",
       "1     1326.0           0.08474            0.07864           0.0869   \n",
       "2     1203.0           0.10960            0.15990           0.1974   \n",
       "3      386.1           0.14250            0.28390           0.2414   \n",
       "4     1297.0           0.10030            0.13280           0.1980   \n",
       "\n",
       "    concave points_mean  ...   radius_worst   texture_worst  perimeter_worst  \\\n",
       "0               0.14710  ...          25.38           17.33           184.60   \n",
       "1               0.07017  ...          24.99           23.41           158.80   \n",
       "2               0.12790  ...          23.57           25.53           152.50   \n",
       "3               0.10520  ...          14.91           26.50            98.87   \n",
       "4               0.10430  ...          22.54           16.67           152.20   \n",
       "\n",
       "    area_worst   smoothness_worst  compactness_worst   concavity_worst  \\\n",
       "0       2019.0             0.1622             0.6656            0.7119   \n",
       "1       1956.0             0.1238             0.1866            0.2416   \n",
       "2       1709.0             0.1444             0.4245            0.4504   \n",
       "3        567.7             0.2098             0.8663            0.6869   \n",
       "4       1575.0             0.1374             0.2050            0.4000   \n",
       "\n",
       "    concave points_worst  symmetry_worst   fractal_dimension_worst  \n",
       "0                 0.2654          0.4601                   0.11890  \n",
       "1                 0.1860          0.2750                   0.08902  \n",
       "2                 0.2430          0.3613                   0.08758  \n",
       "3                 0.2575          0.6638                   0.17300  \n",
       "4                 0.1625          0.2364                   0.07678  \n",
       "\n",
       "[5 rows x 32 columns]"
      ]
     },
     "execution_count": 12,
     "metadata": {},
     "output_type": "execute_result"
    }
   ],
   "source": [
    "dataset.head()"
   ]
  },
  {
   "cell_type": "code",
   "execution_count": 15,
   "metadata": {},
   "outputs": [
    {
     "name": "stdout",
     "output_type": "stream",
     "text": [
      " diagnosis\n",
      "B    357\n",
      "M    212\n",
      "dtype: int64\n"
     ]
    }
   ],
   "source": [
    "print(dataset.groupby(' diagnosis').size())"
   ]
  },
  {
   "cell_type": "markdown",
   "metadata": {},
   "source": [
    "of these 569 data points , 212 labeled as malignant, and 357 as benign.\n"
   ]
  },
  {
   "cell_type": "code",
   "execution_count": 17,
   "metadata": {},
   "outputs": [
    {
     "data": {
      "text/plain": [
       "<matplotlib.axes._subplots.AxesSubplot at 0x12cfdf510>"
      ]
     },
     "execution_count": 17,
     "metadata": {},
     "output_type": "execute_result"
    },
    {
     "data": {
      "image/png": "[encoded data removed]",
      "text/plain": [
       "<Figure size 432x288 with 1 Axes>"
      ]
     },
     "metadata": {
      "needs_background": "light"
     },
     "output_type": "display_data"
    }
   ],
   "source": [
    "import seaborn as sns\n",
    "sns.countplot(dataset[' diagnosis'], label='Count')"
   ]
  },
  {
   "cell_type": "code",
   "execution_count": 18,
   "metadata": {},
   "outputs": [
    {
     "name": "stdout",
     "output_type": "stream",
     "text": [
      "<class 'pandas.core.frame.DataFrame'>\n",
      "RangeIndex: 569 entries, 0 to 568\n",
      "Data columns (total 32 columns):\n",
      " #   Column                    Non-Null Count  Dtype  \n",
      "---  ------                    --------------  -----  \n",
      " 0   id                        569 non-null    int64  \n",
      " 1    diagnosis                569 non-null    object \n",
      " 2    radius_mean              569 non-null    float64\n",
      " 3    texture_mean             569 non-null    float64\n",
      " 4    perimeter_mean           569 non-null    float64\n",
      " 5   area_mean                 569 non-null    float64\n",
      " 6    smoothness_mean          569 non-null    float64\n",
      " 7    compactness_mean         569 non-null    float64\n",
      " 8    concavity_mean           569 non-null    float64\n",
      " 9    concave points_mean      569 non-null    float64\n",
      " 10   symmetry_mean            569 non-null    float64\n",
      " 11   fractal_dimension_mean   569 non-null    float64\n",
      " 12  radius_se                 569 non-null    float64\n",
      " 13   texture_se               569 non-null    float64\n",
      " 14   perimeter_se             569 non-null    float64\n",
      " 15   area_se                  569 non-null    float64\n",
      " 16   smoothness_se            569 non-null    float64\n",
      " 17  compactness_se            569 non-null    float64\n",
      " 18   concavity_se             569 non-null    float64\n",
      " 19   concave points_se        569 non-null    float64\n",
      " 20   symmetry_se              569 non-null    float64\n",
      " 21  fractal_dimension_se      569 non-null    float64\n",
      " 22   radius_worst             569 non-null    float64\n",
      " 23   texture_worst            569 non-null    float64\n",
      " 24  perimeter_worst           569 non-null    float64\n",
      " 25   area_worst               569 non-null    float64\n",
      " 26   smoothness_worst         569 non-null    float64\n",
      " 27  compactness_worst         569 non-null    float64\n",
      " 28   concavity_worst          569 non-null    float64\n",
      " 29   concave points_worst     569 non-null    float64\n",
      " 30  symmetry_worst            569 non-null    float64\n",
      " 31   fractal_dimension_worst  569 non-null    float64\n",
      "dtypes: float64(30), int64(1), object(1)\n",
      "memory usage: 142.4+ KB\n"
     ]
    }
   ],
   "source": [
    "dataset.info()"
   ]
  },
  {
   "cell_type": "markdown",
   "metadata": {},
   "source": [
    "Since ID doesn't contribute as such in the model, we can drop it from the dataset. "
   ]
  },
  {
   "cell_type": "code",
   "execution_count": 21,
   "metadata": {},
   "outputs": [],
   "source": [
    "dataset.drop('id' , axis=1, inplace=True)"
   ]
  },
  {
   "cell_type": "markdown",
   "metadata": {},
   "source": [
    "# k-Nearest Neighbors "
   ]
  },
  {
   "cell_type": "markdown",
   "metadata": {},
   "source": [
    "The k-NN algorithm is arguably the simplest machine learning alogorithm. Building the model consists only of storing the training dataset. To make a prediction for a new data point, the algorithm finds the closest data points in the training dataset- its \"Nearest Neighbors\"."
   ]
  },
  {
   "cell_type": "code",
   "execution_count": 25,
   "metadata": {},
   "outputs": [],
   "source": [
    "from sklearn.model_selection import train_test_split\n",
    "\n",
    "X_train,X_test,y_train,y_test= train_test_split(dataset.loc[:,dataset.columns !=' diagnosis'], dataset[' diagnosis'], \n",
    "                                                stratify=dataset[' diagnosis'], \n",
    "                                                random_state= 66\n",
    "                                               )"
   ]
  },
  {
   "cell_type": "code",
   "execution_count": 31,
   "metadata": {},
   "outputs": [
    {
     "data": {
      "image/png": "[encoded data removed]",
      "text/plain": [
       "<Figure size 432x288 with 1 Axes>"
      ]
     },
     "metadata": {
      "needs_background": "light"
     },
     "output_type": "display_data"
    }
   ],
   "source": [
    "from sklearn.neighbors import KNeighborsClassifier\n",
    "training_accuracy=[]\n",
    "test_accuracy=[]\n",
    "\n",
    "\n",
    "# try n_neighbors from 1 to 10.\n",
    "neighbors_settings = range(1,10)\n",
    "\n",
    "for n_neighbors in neighbors_settings:\n",
    "    # build the model\n",
    "    knn = KNeighborsClassifier(n_neighbors= n_neighbors)\n",
    "    knn.fit(X_train,y_train)\n",
    "    \n",
    "    # record training set accuracy\n",
    "    training_accuracy.append(knn.score(X_train,y_train))\n",
    "    # record test set accuracy\n",
    "    test_accuracy.append(knn.score(X_test, y_test))\n",
    "\n",
    "plt.plot(neighbors_settings, training_accuracy, label='Training Accuracy' ) \n",
    "plt.plot(neighbors_settings, test_accuracy, label='Test Accuracy')\n",
    "plt.xlabel('n_neighbors')\n",
    "plt.ylabel('Accuracy')\n",
    "plt.legend()\n",
    "plt.savefig('knn_compare_model')\n",
    "\n"
   ]
  },
  {
   "cell_type": "markdown",
   "metadata": {},
   "source": [
    "The plot shows the training and test set accuracy on the Y-axis against the setting of n_neighbors on the X-axis.\n",
    "Considering a single nearest neighbors, the prediction on the training set is perfect. \n",
    "\n",
    "But when more neighbors are considered , the training accuracy drops, indicating that using the single nearest neighbor \n",
    "leads to a model that is too complex.\n",
    "\n",
    "The best performace is somewhere around 3 nieghbors. Still, it is a good to keep the scale of the plot in mind.\n",
    "The worst performance is more than 90% accurancy, which might still be a pretty good.\n",
    "\n",
    "The above plot suggests that we should choos n_neighbors =3 .\n"
   ]
  },
  {
   "cell_type": "code",
   "execution_count": 35,
   "metadata": {},
   "outputs": [
    {
     "data": {
      "image/png": "[encoded data removed]",
      "text/plain": [
       "<Figure size 432x288 with 1 Axes>"
      ]
     },
     "metadata": {
      "needs_background": "light"
     },
     "output_type": "display_data"
    }
   ],
   "source": [
    "training_accuracy_1=[]\n",
    "test_accuracy_1=[]\n",
    "neighbors_settings = range(1,3)\n",
    "\n",
    "for n_neighbors in neighbors_settings:\n",
    "    # build the model\n",
    "    knn = KNeighborsClassifier(n_neighbors= n_neighbors)\n",
    "    knn.fit(X_train,y_train)\n",
    "    \n",
    "    # record training set accuracy\n",
    "    training_accuracy_1.append(knn.score(X_train,y_train))\n",
    "    # record test set accuracy\n",
    "    test_accuracy_1.append(knn.score(X_test, y_test))\n",
    "\n",
    "plt.plot(neighbors_settings, training_accuracy, label='Training Accuracy' ) \n",
    "plt.plot(neighbors_settings, test_accuracy, label='Test Accuracy')\n",
    "plt.xlabel('n_neighbors')\n",
    "plt.ylabel('Accuracy')\n",
    "plt.legend()\n",
    "plt.savefig('knn_compare_model')\n"
   ]
  },
  {
   "cell_type": "code",
   "execution_count": 34,
   "metadata": {},
   "outputs": [
    {
     "name": "stdout",
     "output_type": "stream",
     "text": [
      "Accuracy of K-NN classifier on training set: 0.96\n",
      "Accuracy of K-NN classifier on test set: 0.92\n"
     ]
    }
   ],
   "source": [
    "knn = KNeighborsClassifier(n_neighbors=3)\n",
    "knn.fit(X_train, y_train)\n",
    "\n",
    "print('Accuracy of K-NN classifier on training set: {:.2f}'.format(knn.score(X_train, y_train)))\n",
    "print('Accuracy of K-NN classifier on test set: {:.2f}'.format(knn.score(X_test, y_test)))"
   ]
  },
  {
   "cell_type": "markdown",
   "metadata": {},
   "source": [
    "# Logistic Regression "
   ]
  },
  {
   "cell_type": "markdown",
   "metadata": {},
   "source": [
    "One of the most common Linear classification algorithms is Logistic Regression. "
   ]
  },
  {
   "cell_type": "code",
   "execution_count": 38,
   "metadata": {},
   "outputs": [
    {
     "name": "stdout",
     "output_type": "stream",
     "text": [
      "Training set score: 0.951\n",
      "Testing set score: 0.937\n"
     ]
    },
    {
     "name": "stderr",
     "output_type": "stream",
     "text": [
      "/usr/local/Cellar/jupyterlab/2.0.1/libexec/lib/python3.7/site-packages/sklearn/linear_model/_logistic.py:940: ConvergenceWarning: lbfgs failed to converge (status=1):\n",
      "STOP: TOTAL NO. of ITERATIONS REACHED LIMIT.\n",
      "\n",
      "Increase the number of iterations (max_iter) or scale the data as shown in:\n",
      "    https://scikit-learn.org/stable/modules/preprocessing.html\n",
      "Please also refer to the documentation for alternative solver options:\n",
      "    https://scikit-learn.org/stable/modules/linear_model.html#logistic-regression\n",
      "  extra_warning_msg=_LOGISTIC_SOLVER_CONVERGENCE_MSG)\n"
     ]
    }
   ],
   "source": [
    "from sklearn.linear_model import LogisticRegression\n",
    "\n",
    "logreg= LogisticRegression().fit(X_train,y_train)\n",
    "print(\"Training set score: {:.3f}\".format(logreg.score(X_train,y_train)))\n",
    "print(\"Testing set score: {:.3f}\".format(logreg.score(X_test,y_test)))"
   ]
  },
  {
   "cell_type": "markdown",
   "metadata": {},
   "source": [
    "The default value of C=1 provides quite good performance with 96% accuracy on training and 94%accuracy on test set. \n",
    "Lets try to increase C to fit a more flexible model to see whether we can improve the performance.\n"
   ]
  },
  {
   "cell_type": "code",
   "execution_count": 39,
   "metadata": {},
   "outputs": [
    {
     "name": "stdout",
     "output_type": "stream",
     "text": [
      "Training set score: 0.946\n",
      "Testing set score: 0.958\n"
     ]
    },
    {
     "name": "stderr",
     "output_type": "stream",
     "text": [
      "/usr/local/Cellar/jupyterlab/2.0.1/libexec/lib/python3.7/site-packages/sklearn/linear_model/_logistic.py:940: ConvergenceWarning: lbfgs failed to converge (status=1):\n",
      "STOP: TOTAL NO. of ITERATIONS REACHED LIMIT.\n",
      "\n",
      "Increase the number of iterations (max_iter) or scale the data as shown in:\n",
      "    https://scikit-learn.org/stable/modules/preprocessing.html\n",
      "Please also refer to the documentation for alternative solver options:\n",
      "    https://scikit-learn.org/stable/modules/linear_model.html#logistic-regression\n",
      "  extra_warning_msg=_LOGISTIC_SOLVER_CONVERGENCE_MSG)\n"
     ]
    }
   ],
   "source": [
    "logreg100= LogisticRegression(C=100).fit(X_train,y_train)\n",
    "print(\"Training set score: {:.3f}\".format(logreg100.score(X_train,y_train)))\n",
    "print(\"Testing set score: {:.3f}\".format(logreg100.score(X_test,y_test)))"
   ]
  },
  {
   "cell_type": "markdown",
   "metadata": {},
   "source": [
    "Using C=100 results in lower accuracy on both training set and higher acucracy test set, \n",
    "proved underfitting, confirming that less regularization and more complex model should perform better.\n"
   ]
  },
  {
   "cell_type": "code",
   "execution_count": 42,
   "metadata": {},
   "outputs": [
    {
     "name": "stdout",
     "output_type": "stream",
     "text": [
      "Training set score: 0.948\n",
      "Testing set score: 0.895\n"
     ]
    },
    {
     "name": "stderr",
     "output_type": "stream",
     "text": [
      "/usr/local/Cellar/jupyterlab/2.0.1/libexec/lib/python3.7/site-packages/sklearn/linear_model/_logistic.py:940: ConvergenceWarning: lbfgs failed to converge (status=1):\n",
      "STOP: TOTAL NO. of ITERATIONS REACHED LIMIT.\n",
      "\n",
      "Increase the number of iterations (max_iter) or scale the data as shown in:\n",
      "    https://scikit-learn.org/stable/modules/preprocessing.html\n",
      "Please also refer to the documentation for alternative solver options:\n",
      "    https://scikit-learn.org/stable/modules/linear_model.html#logistic-regression\n",
      "  extra_warning_msg=_LOGISTIC_SOLVER_CONVERGENCE_MSG)\n"
     ]
    }
   ],
   "source": [
    "logreg001= LogisticRegression(C=0.01).fit(X_train,y_train)\n",
    "print(\"Training set score: {:.3f}\".format(logreg001.score(X_train,y_train)))\n",
    "print(\"Testing set score: {:.3f}\".format(logreg001.score(X_test,y_test)))"
   ]
  },
  {
   "cell_type": "markdown",
   "metadata": {},
   "source": [
    "Using C =0.01 results in lower accuracy on the training set and much lower accuracy on the test set. \n",
    "It indicates our model doesn't generalize well from our training data to unseen data with C =0.01.\n",
    "Overfitting occures."
   ]
  },
  {
   "cell_type": "code",
   "execution_count": 48,
   "metadata": {},
   "outputs": [
    {
     "data": {
      "image/png": "[encoded data removed]",
      "text/plain": [
       "<Figure size 576x432 with 1 Axes>"
      ]
     },
     "metadata": {
      "needs_background": "light"
     },
     "output_type": "display_data"
    }
   ],
   "source": [
    "dataset_features = [x for i ,x in enumerate(dataset.columns) if i !=0]\n",
    "\n",
    "plt.figure(figsize=(8,6))\n",
    "plt.plot(logreg.coef_.T, 'o', label=\"C=1\")\n",
    "plt.plot(logreg100.coef_.T, '^', label=\"C=100\")\n",
    "plt.plot(logreg001.coef_.T, '^', label=\"C=0.01\")\n",
    "plt.xticks(range(dataset.shape[1]), dataset_features, rotation=90)\n",
    "plt.hlines(0,0,dataset.shape[1])\n",
    "plt.ylim(-5,5)\n",
    "plt.xlabel('Features')\n",
    "plt.ylabel('Coefficient Magnitude')\n",
    "plt.legend()\n",
    "plt.savefig('log_coef')"
   ]
  },
  {
   "cell_type": "markdown",
   "metadata": {},
   "source": [
    " \n",
    "\n",
    "# Decision Tree"
   ]
  },
  {
   "cell_type": "code",
   "execution_count": 50,
   "metadata": {},
   "outputs": [
    {
     "name": "stdout",
     "output_type": "stream",
     "text": [
      "Accuracy on training set : 1.000\n",
      "Accuracy on test set : 0.937\n"
     ]
    }
   ],
   "source": [
    "from sklearn.tree import DecisionTreeClassifier\n",
    "\n",
    "tree= DecisionTreeClassifier(random_state=0)\n",
    "tree.fit(X_train,y_train)\n",
    "print(\"Accuracy on training set : {:.3f}\".format(tree.score(X_train,y_train)))\n",
    "print(\"Accuracy on test set : {:.3f}\".format(tree.score(X_test,y_test)))"
   ]
  },
  {
   "cell_type": "code",
   "execution_count": 51,
   "metadata": {},
   "outputs": [
    {
     "name": "stdout",
     "output_type": "stream",
     "text": [
      "Accuracy on training set : 0.986\n",
      "Accuracy on test set : 0.937\n"
     ]
    }
   ],
   "source": [
    "tree= DecisionTreeClassifier(max_depth=4,random_state=0)\n",
    "tree.fit(X_train,y_train)\n",
    "print(\"Accuracy on training set : {:.3f}\".format(tree.score(X_train,y_train)))\n",
    "print(\"Accuracy on test set : {:.3f}\".format(tree.score(X_test,y_test)))"
   ]
  },
  {
   "cell_type": "markdown",
   "metadata": {},
   "source": [
    "# Feature Imortance in Trees"
   ]
  },
  {
   "cell_type": "markdown",
   "metadata": {},
   "source": [
    "Feature importance rates how important each feature is for the decision a tree makes. \n",
    "It is a number between 0 to 1 for each feature where \n",
    "0 means \"Not used at all\", and \n",
    "1 means \"Perfectly predicts the target.\"\n",
    "The feature importance always sum to 1.\n"
   ]
  },
  {
   "cell_type": "code",
   "execution_count": 53,
   "metadata": {},
   "outputs": [
    {
     "name": "stdout",
     "output_type": "stream",
     "text": [
      "Feature Importance : \n",
      "[0.         0.02665433 0.         0.02299068 0.         0.\n",
      " 0.         0.01581361 0.         0.         0.         0.\n",
      " 0.01644953 0.         0.         0.         0.         0.\n",
      " 0.         0.         0.         0.03377907 0.76882622 0.\n",
      " 0.00852939 0.01013634 0.         0.09682083 0.         0.        ]\n"
     ]
    }
   ],
   "source": [
    "print(\"Feature Importance : \\n{}\".format(tree.feature_importances_))"
   ]
  },
  {
   "cell_type": "markdown",
   "metadata": {},
   "source": [
    "Lets visualize the feature importances.\n"
   ]
  },
  {
   "cell_type": "code",
   "execution_count": 55,
   "metadata": {},
   "outputs": [
    {
     "data": {
      "image/png": "[encoded data removed]",
      "text/plain": [
       "<Figure size 576x432 with 1 Axes>"
      ]
     },
     "metadata": {
      "needs_background": "light"
     },
     "output_type": "display_data"
    }
   ],
   "source": [
    "def plot_feature_importance_cancer(model):\n",
    "    plt.figure(figsize=(8,6))\n",
    "    n_features =30\n",
    "    plt.barh(range(n_features), model.feature_importances_, align='center')\n",
    "    plt.yticks(np.arange(n_features), dataset_features)\n",
    "    plt.xlabel(\"Feature Importance\")\n",
    "    plt.ylabel(\"Feature\")\n",
    "    plt.ylim(-1, n_features)\n",
    "    \n",
    "\n",
    "plot_feature_importance_cancer(tree)\n",
    "plt.savefig('feature_imporance')\n"
   ]
  },
  {
   "cell_type": "code",
   "execution_count": null,
   "metadata": {},
   "outputs": [],
   "source": [
    "Feature 'perimeter_worst' is by far the most important feature. \n",
    "This confirms our observation in analyzin the tree that the first level already sepeates the two classes failrly well.\n"
   ]
  }
 ],
 "metadata": {
  "kernelspec": {
   "display_name": "Python 3",
   "language": "python",
   "name": "python3"
  },
  "language_info": {
   "codemirror_mode": {
    "name": "ipython",
    "version": 3
   },
   "file_extension": ".py",
   "mimetype": "text/x-python",
   "name": "python",
   "nbconvert_exporter": "python",
   "pygments_lexer": "ipython3",
   "version": "3.7.7"
  }
 },
 "nbformat": 4,
 "nbformat_minor": 4
}
